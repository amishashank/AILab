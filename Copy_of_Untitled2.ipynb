{
  "nbformat": 4,
  "nbformat_minor": 0,
  "metadata": {
    "colab": {
      "provenance": [],
      "mount_file_id": "1Qo8YYjfanHeBwJVrUXpcSVRzZM_Qxqvx",
      "authorship_tag": "ABX9TyMQ5B8+NuT9BTYH+cen3vAQ",
      "include_colab_link": true
    },
    "kernelspec": {
      "name": "python3",
      "display_name": "Python 3"
    },
    "language_info": {
      "name": "python"
    }
  },
  "cells": [
    {
      "cell_type": "markdown",
      "metadata": {
        "id": "view-in-github",
        "colab_type": "text"
      },
      "source": [
        "<a href=\"https://colab.research.google.com/github/amishashank/AILab/blob/main/Copy_of_Untitled2.ipynb\" target=\"_parent\"><img src=\"https://colab.research.google.com/assets/colab-badge.svg\" alt=\"Open In Colab\"/></a>"
      ]
    },
    {
      "cell_type": "code",
      "execution_count": null,
      "metadata": {
        "colab": {
          "base_uri": "https://localhost:8080/"
        },
        "id": "dkYKQ6Fn2BKc",
        "outputId": "e7d9d24d-ae09-4ec9-d20c-0a5b228b0718"
      },
      "outputs": [
        {
          "output_type": "stream",
          "name": "stdout",
          "text": [
            "Initial List is : ['The', 'ERA', 'of', 'Computer', 'Science', 'and', 'Technology']\n",
            "After using the function : ['The', 'ERA', 'of', 'Science', 'and', 'Technology']\n"
          ]
        }
      ],
      "source": [
        "# Python program to remove an element from a list using the remove()function\n",
        "\n",
        "my_list = ['The','ERA', 'of','Computer', 'Science', 'and', 'Technology']\n",
        "print(\"Initial List is :\", my_list)\n",
        "\n",
        " # through remove() deleting 'Python' from the my_list\n",
        "my_list.remove('Computer')\n",
        "print( \"After using the function :\", my_list )"
      ]
    },
    {
      "cell_type": "code",
      "source": [
        "# define list\n",
        "l = [ 'Devesh','Sanchit', 'Ayush', 'Abhijay']\n",
        "# initial list\n",
        "print(\"initial list\")\n",
        "print(l)\n",
        "# replace first value\n",
        "print(\"after replacing first element\")\n",
        "l[3] = 'Ankita'\n",
        " # print list\n",
        "print(l)"
      ],
      "metadata": {
        "colab": {
          "base_uri": "https://localhost:8080/"
        },
        "id": "vdTooja7JTDF",
        "outputId": "5d4b0fdb-5694-472b-e397-5dfb0cb12043"
      },
      "execution_count": null,
      "outputs": [
        {
          "output_type": "stream",
          "name": "stdout",
          "text": [
            "initial list\n",
            "['Devesh', 'Sanchit', 'Ayush', 'Abhijay']\n",
            "after replacing first element\n",
            "['Devesh', 'Sanchit', 'Ayush', 'Ankita']\n"
          ]
        }
      ]
    },
    {
      "cell_type": "code",
      "source": [
        "#Nested list\n",
        "print(\" **Nested list** \")\n",
        "L = ['a', 'b', ['cc', 'dd', ['eee', 'fff']], 'g', 'h']\n",
        "print(L[2])\n",
        "# Prints ['cc', 'dd', ['eee', 'fff']]\n",
        "print(L[2][2])\n",
        "# Prints ['eee', 'fff']\n",
        "print(L[2][2][0])\n",
        "# Prints eee\n",
        "# concatenation using + operator\n",
        "# Initializing lists\n",
        "print(\" **concatenation of list** \")\n",
        "test_list3 = [1, 4, 5, 6, 5]\n",
        "test_list4 = [3, 5, 7, 2, 5]\n",
        "# using + operator to concat\n",
        "test_list3 = test_list3 + test_list4\n",
        "# Printing concatenated list\n",
        "print (\"Concatenated list using + : \"+ str(test_list3))\n",
        "# Finding common member in list\n",
        "# using 'in' operator\n",
        "print(\" ** Membership** \")\n",
        "list1 = [1, 2, 3, 4, 5]\n",
        "list2 = [6, 2, 8, 9]\n",
        "for item in list1:\n",
        " if item in list2:\n",
        "  print(\"overlapping\")\n",
        "else:\n",
        " print(\"not overlapping\")\n",
        "#Initialize list\n",
        "#Sliicng of list\n",
        "List = [1, 2, 3, 4, 5, 6, 7, 8, 9]\n",
        "# Show original list\n",
        "print(\"\\nOriginal List:\\n\", List)\n",
        "print(\"\\nSliced Lists: \")\n",
        "# Display sliced list\n",
        "print(List[3:9:2])\n",
        "# Display sliced list\n",
        "print(List[::2])\n",
        "# Display sliced list\n",
        "print(List[::])"
      ],
      "metadata": {
        "colab": {
          "base_uri": "https://localhost:8080/"
        },
        "id": "MuA2UMtnOsh5",
        "outputId": "772a696f-134b-4559-d233-cfcba6e59509"
      },
      "execution_count": null,
      "outputs": [
        {
          "output_type": "stream",
          "name": "stdout",
          "text": [
            " **Nested list** \n",
            "['cc', 'dd', ['eee', 'fff']]\n",
            "['eee', 'fff']\n",
            "eee\n",
            " **concatenation of list** \n",
            "Concatenated list using + : [1, 4, 5, 6, 5, 3, 5, 7, 2, 5]\n",
            " ** Membership** \n",
            "overlapping\n",
            "not overlapping\n",
            "\n",
            "Original List:\n",
            " [1, 2, 3, 4, 5, 6, 7, 8, 9]\n",
            "\n",
            "Sliced Lists: \n",
            "[4, 6, 8]\n",
            "[1, 3, 5, 7, 9]\n",
            "[1, 2, 3, 4, 5, 6, 7, 8, 9]\n"
          ]
        }
      ]
    },
    {
      "cell_type": "code",
      "source": [
        "# create a list of numbers\n",
        "numbers = [2, 3, 5, 7]\n",
        "print('original list:',numbers)\n",
        "# reverse the order of list elements\n",
        "numbers.reverse()\n",
        "print('Reversed List:', numbers)"
      ],
      "metadata": {
        "colab": {
          "base_uri": "https://localhost:8080/"
        },
        "id": "0vkc5sEKSU5S",
        "outputId": "e41ea6c5-3323-4d03-ea37-cfe68d0cec10"
      },
      "execution_count": null,
      "outputs": [
        {
          "output_type": "stream",
          "name": "stdout",
          "text": [
            "original list: [2, 3, 5, 7]\n",
            "Reversed List: [7, 5, 3, 2]\n"
          ]
        }
      ]
    },
    {
      "cell_type": "code",
      "source": [
        "import calendar\n",
        "y = int(input(\"Input the year : \"))\n",
        "m = int(input(\"Input the month : \"))\n",
        "print(calendar.month(y, m))"
      ],
      "metadata": {
        "colab": {
          "base_uri": "https://localhost:8080/"
        },
        "id": "5nzq2wprTmpt",
        "outputId": "0aca41b0-8c0c-43ba-ebf4-331e3297635f"
      },
      "execution_count": null,
      "outputs": [
        {
          "output_type": "stream",
          "name": "stdout",
          "text": [
            "Input the year : 1998\n",
            "Input the month : 07\n",
            "     July 1998\n",
            "Mo Tu We Th Fr Sa Su\n",
            "       1  2  3  4  5\n",
            " 6  7  8  9 10 11 12\n",
            "13 14 15 16 17 18 19\n",
            "20 21 22 23 24 25 26\n",
            "27 28 29 30 31\n",
            "\n"
          ]
        }
      ]
    },
    {
      "cell_type": "code",
      "source": [
        "print(\"Chatbot program\")\n",
        "print(\"Question\\n\")\n",
        "print(\"Hi\\n\",'how are you?\\n',\"Are you working?\",\"\\nWhat is your name?\\n\",\"Quit\\n\")\n",
        "while True:\n",
        "    question=input('\\nEnter your question\\n')\n",
        "    question=question.lower()\n",
        "    if question in['hi']:\n",
        "        print(\"Hello\")\n",
        "    elif question in['how are you?','how do you do?']:\n",
        "        print(\"I am fine\")\n",
        "    elif question in['are you working?']:\n",
        "        print(\"Yes I am working\")\n",
        "    elif question in['what is your name?']:\n",
        "        print(\"My name is Shashank Pandey\")\n",
        "        name=input(\"Enter you Name\")\n",
        "        print(\"Nice to Meet You\",name)\n",
        "    elif question in['quit']:\n",
        "        print(\"Thanks to Talk to You\")\n",
        "        break\n",
        "    else:\n",
        "        print(\"I do not understand the question \\nAsk rom Given Question\")\n",
        "\n"
      ],
      "metadata": {
        "colab": {
          "base_uri": "https://localhost:8080/"
        },
        "id": "NuuaGtGgU-mD",
        "outputId": "d6878e04-e549-4a39-f516-b5bbde3cfc52"
      },
      "execution_count": 1,
      "outputs": [
        {
          "output_type": "stream",
          "name": "stdout",
          "text": [
            "Chatbot program\n",
            "Question\n",
            "\n",
            "Hi\n",
            " how are you?\n",
            " Are you working? \n",
            "What is your name?\n",
            " Quit\n",
            "\n",
            "\n",
            "Enter your question\n",
            "Hi\n",
            "Hello\n",
            "\n",
            "Enter your question\n",
            "how are you?\n",
            "I am fine\n",
            "\n",
            "Enter your question\n",
            "What is your name?\n",
            "My name is Shashank Pandey\n",
            "Enter you NameShashank\n",
            "Nice to Meet You Shashank\n",
            "\n",
            "Enter your question\n",
            "Quit\n",
            "Thanks to Talk to You\n"
          ]
        }
      ]
    },
    {
      "cell_type": "code",
      "source": [
        "# Using a Python dictionary to act as an adjacency list\n",
        "graph = {\n",
        "'5' : ['3','7'],\n",
        "'3' : ['2', '4'],\n",
        "'7' : ['8'],\n",
        "'2' : [],\n",
        "'4' : ['8'],\n",
        "'8' : []\n",
        "}\n",
        "visited = set() # Set to keep track of visited nodes of graph.\n",
        "def dfs(visited, graph, node): #function for dfs\n",
        " if node not in visited:\n",
        "  print (node)\n",
        " visited.add(node)\n",
        " for neighbour in graph[node]:\n",
        "  dfs(visited, graph, neighbour)\n",
        "# Driver Code\n",
        "print(\"Following is the Depth-First Search\")\n",
        "dfs(visited, graph, '5')"
      ],
      "metadata": {
        "colab": {
          "base_uri": "https://localhost:8080/"
        },
        "id": "2ry959_va5sv",
        "outputId": "18a079b3-c3f6-48b5-ab59-5fcc9cb7c3f7"
      },
      "execution_count": 9,
      "outputs": [
        {
          "output_type": "stream",
          "name": "stdout",
          "text": [
            "Following is the Depth-First Search\n",
            "5\n",
            "3\n",
            "2\n",
            "4\n",
            "8\n",
            "7\n"
          ]
        }
      ]
    },
    {
      "cell_type": "code",
      "source": [
        "# Taking number of queens as input from user\n",
        "print (\"Enter the number of queens\")\n",
        "N = int(input())\n",
        "# here we create a chessboard\n",
        "# NxN matrix with all elements set to 0\n",
        "board = [[0]*N for _ in range(N)]\n",
        "def attack(i, j):\n",
        "    #checking vertically and horizontally\n",
        "    for k in range(0,N):\n",
        "        if board[i][k]==1 or board[k][j]==1:\n",
        "            return True\n",
        "    #checking diagonally\n",
        "    for k in range(0,N):\n",
        "        for l in range(0,N):\n",
        "            if (k+l==i+j) or (k-l==i-j):\n",
        "                if board[k][l]==1:\n",
        "                    return True\n",
        "    return False\n",
        "def N_queens(n):\n",
        "    if n==0:\n",
        "        return True\n",
        "    for i in range(0,N):\n",
        "        for j in range(0,N):\n",
        "            if (not(attack(i,j))) and (board[i][j]!=1):\n",
        "                board[i][j] = 1\n",
        "                if N_queens(n-1)==True:\n",
        "                    return True\n",
        "                board[i][j] = 0\n",
        "    return False\n",
        "N_queens(N)\n",
        "for i in board:\n",
        "    print (i)"
      ],
      "metadata": {
        "colab": {
          "base_uri": "https://localhost:8080/"
        },
        "id": "dJpcuK6fbsX-",
        "outputId": "09b556b3-44f6-49d2-d9c5-b686b3fec23c"
      },
      "execution_count": 11,
      "outputs": [
        {
          "output_type": "stream",
          "name": "stdout",
          "text": [
            "Enter the number of queens\n",
            "4\n",
            "[0, 1, 0, 0]\n",
            "[0, 0, 0, 1]\n",
            "[1, 0, 0, 0]\n",
            "[0, 0, 1, 0]\n"
          ]
        }
      ]
    }
  ]
}